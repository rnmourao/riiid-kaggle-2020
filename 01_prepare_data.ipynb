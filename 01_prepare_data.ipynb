{
 "metadata": {
  "language_info": {
   "codemirror_mode": {
    "name": "ipython",
    "version": 3
   },
   "file_extension": ".py",
   "mimetype": "text/x-python",
   "name": "python",
   "nbconvert_exporter": "python",
   "pygments_lexer": "ipython3",
   "version": "3.8.5-final"
  },
  "orig_nbformat": 2,
  "kernelspec": {
   "name": "Python 3.8.5 64-bit ('venv': virtualenv)",
   "display_name": "Python 3.8.5 64-bit ('venv': virtualenv)",
   "metadata": {
    "interpreter": {
     "hash": "7412b17acdd79144fae8068f87d760e95c2d8a97b6e5ed8f4a870db666b33a67"
    }
   }
  }
 },
 "nbformat": 4,
 "nbformat_minor": 2,
 "cells": [
  {
   "cell_type": "code",
   "execution_count": 1,
   "metadata": {},
   "outputs": [],
   "source": [
    "import pandas as pd\n",
    "import os"
   ]
  },
  {
   "cell_type": "code",
   "execution_count": 2,
   "metadata": {},
   "outputs": [],
   "source": [
    "folder = '/media/mourao/BACKUP/kaggle.com/c/riiid-test-answer-prediction/data'"
   ]
  },
  {
   "cell_type": "code",
   "execution_count": 4,
   "metadata": {},
   "outputs": [
    {
     "output_type": "stream",
     "name": "stdout",
     "text": [
      "/media/mourao/BACKUP/kaggle.com/c/riiid-test-answer-prediction/data/train.csv\n/media/mourao/BACKUP/kaggle.com/c/riiid-test-answer-prediction/data/lectures.csv\n/media/mourao/BACKUP/kaggle.com/c/riiid-test-answer-prediction/data/example_test.csv\n/media/mourao/BACKUP/kaggle.com/c/riiid-test-answer-prediction/data/example_sample_submission.csv\n/media/mourao/BACKUP/kaggle.com/c/riiid-test-answer-prediction/data/questions.csv\n"
     ]
    }
   ],
   "source": [
    "for dirname, _, filenames in os.walk(folder):\n",
    "    for filename in filenames:\n",
    "        print(os.path.join(dirname, filename))"
   ]
  },
  {
   "cell_type": "code",
   "execution_count": 3,
   "metadata": {},
   "outputs": [
    {
     "output_type": "execute_result",
     "data": {
      "text/plain": [
       "       row_id  timestamp  user_id  content_id  content_type_id  \\\n",
       "0           0          0      115        5692                0   \n",
       "1           1      56943      115        5716                0   \n",
       "2           2     118363      115         128                0   \n",
       "3           3     131167      115        7860                0   \n",
       "4           4     137965      115        7922                0   \n",
       "...       ...        ...      ...         ...              ...   \n",
       "99995   99995  153647401  2078569        4334                0   \n",
       "99996   99996  153692472  2078569        6436                0   \n",
       "99997   99997  153722998  2078569        6446                0   \n",
       "99998   99998  153759775  2078569        3715                0   \n",
       "99999   99999  153842445  2078569        5624                0   \n",
       "\n",
       "       task_container_id  user_answer  answered_correctly  \\\n",
       "0                      1            3                   1   \n",
       "1                      2            2                   1   \n",
       "2                      0            0                   1   \n",
       "3                      3            0                   1   \n",
       "4                      4            1                   1   \n",
       "...                  ...          ...                 ...   \n",
       "99995                275            3                   0   \n",
       "99996                276            3                   0   \n",
       "99997                277            2                   1   \n",
       "99998                278            3                   0   \n",
       "99999                279            3                   1   \n",
       "\n",
       "       prior_question_elapsed_time  prior_question_had_explanation  \n",
       "0                              NaN                            <NA>  \n",
       "1                          37000.0                           False  \n",
       "2                          55000.0                           False  \n",
       "3                          19000.0                           False  \n",
       "4                          11000.0                           False  \n",
       "...                            ...                             ...  \n",
       "99995                       6000.0                            True  \n",
       "99996                       9000.0                            True  \n",
       "99997                      21000.0                            True  \n",
       "99998                      12000.0                            True  \n",
       "99999                      16000.0                            True  \n",
       "\n",
       "[100000 rows x 10 columns]"
      ],
      "text/html": "<div>\n<style scoped>\n    .dataframe tbody tr th:only-of-type {\n        vertical-align: middle;\n    }\n\n    .dataframe tbody tr th {\n        vertical-align: top;\n    }\n\n    .dataframe thead th {\n        text-align: right;\n    }\n</style>\n<table border=\"1\" class=\"dataframe\">\n  <thead>\n    <tr style=\"text-align: right;\">\n      <th></th>\n      <th>row_id</th>\n      <th>timestamp</th>\n      <th>user_id</th>\n      <th>content_id</th>\n      <th>content_type_id</th>\n      <th>task_container_id</th>\n      <th>user_answer</th>\n      <th>answered_correctly</th>\n      <th>prior_question_elapsed_time</th>\n      <th>prior_question_had_explanation</th>\n    </tr>\n  </thead>\n  <tbody>\n    <tr>\n      <th>0</th>\n      <td>0</td>\n      <td>0</td>\n      <td>115</td>\n      <td>5692</td>\n      <td>0</td>\n      <td>1</td>\n      <td>3</td>\n      <td>1</td>\n      <td>NaN</td>\n      <td>&lt;NA&gt;</td>\n    </tr>\n    <tr>\n      <th>1</th>\n      <td>1</td>\n      <td>56943</td>\n      <td>115</td>\n      <td>5716</td>\n      <td>0</td>\n      <td>2</td>\n      <td>2</td>\n      <td>1</td>\n      <td>37000.0</td>\n      <td>False</td>\n    </tr>\n    <tr>\n      <th>2</th>\n      <td>2</td>\n      <td>118363</td>\n      <td>115</td>\n      <td>128</td>\n      <td>0</td>\n      <td>0</td>\n      <td>0</td>\n      <td>1</td>\n      <td>55000.0</td>\n      <td>False</td>\n    </tr>\n    <tr>\n      <th>3</th>\n      <td>3</td>\n      <td>131167</td>\n      <td>115</td>\n      <td>7860</td>\n      <td>0</td>\n      <td>3</td>\n      <td>0</td>\n      <td>1</td>\n      <td>19000.0</td>\n      <td>False</td>\n    </tr>\n    <tr>\n      <th>4</th>\n      <td>4</td>\n      <td>137965</td>\n      <td>115</td>\n      <td>7922</td>\n      <td>0</td>\n      <td>4</td>\n      <td>1</td>\n      <td>1</td>\n      <td>11000.0</td>\n      <td>False</td>\n    </tr>\n    <tr>\n      <th>...</th>\n      <td>...</td>\n      <td>...</td>\n      <td>...</td>\n      <td>...</td>\n      <td>...</td>\n      <td>...</td>\n      <td>...</td>\n      <td>...</td>\n      <td>...</td>\n      <td>...</td>\n    </tr>\n    <tr>\n      <th>99995</th>\n      <td>99995</td>\n      <td>153647401</td>\n      <td>2078569</td>\n      <td>4334</td>\n      <td>0</td>\n      <td>275</td>\n      <td>3</td>\n      <td>0</td>\n      <td>6000.0</td>\n      <td>True</td>\n    </tr>\n    <tr>\n      <th>99996</th>\n      <td>99996</td>\n      <td>153692472</td>\n      <td>2078569</td>\n      <td>6436</td>\n      <td>0</td>\n      <td>276</td>\n      <td>3</td>\n      <td>0</td>\n      <td>9000.0</td>\n      <td>True</td>\n    </tr>\n    <tr>\n      <th>99997</th>\n      <td>99997</td>\n      <td>153722998</td>\n      <td>2078569</td>\n      <td>6446</td>\n      <td>0</td>\n      <td>277</td>\n      <td>2</td>\n      <td>1</td>\n      <td>21000.0</td>\n      <td>True</td>\n    </tr>\n    <tr>\n      <th>99998</th>\n      <td>99998</td>\n      <td>153759775</td>\n      <td>2078569</td>\n      <td>3715</td>\n      <td>0</td>\n      <td>278</td>\n      <td>3</td>\n      <td>0</td>\n      <td>12000.0</td>\n      <td>True</td>\n    </tr>\n    <tr>\n      <th>99999</th>\n      <td>99999</td>\n      <td>153842445</td>\n      <td>2078569</td>\n      <td>5624</td>\n      <td>0</td>\n      <td>279</td>\n      <td>3</td>\n      <td>1</td>\n      <td>16000.0</td>\n      <td>True</td>\n    </tr>\n  </tbody>\n</table>\n<p>100000 rows × 10 columns</p>\n</div>"
     },
     "metadata": {},
     "execution_count": 3
    }
   ],
   "source": [
    "train_df = pd.read_csv(os.path.join(folder, 'train.csv'), low_memory=False, nrows=10**5, \n",
    "                       dtype={'row_id': 'int64', 'timestamp': 'int64', 'user_id': 'int32', 'content_id': 'int16', 'content_type_id': 'int8',\n",
    "                              'task_container_id': 'int16', 'user_answer': 'int8', 'answered_correctly': 'int8', 'prior_question_elapsed_time': 'float32', \n",
    "                             'prior_question_had_explanation': 'boolean',\n",
    "                             }\n",
    "                      )\n",
    "train_df"
   ]
  },
  {
   "cell_type": "code",
   "execution_count": 22,
   "metadata": {},
   "outputs": [
    {
     "output_type": "stream",
     "name": "stdout",
     "text": [
      "<class 'pandas.core.frame.DataFrame'>\nRangeIndex: 100000 entries, 0 to 99999\nData columns (total 10 columns):\n #   Column                          Non-Null Count   Dtype  \n---  ------                          --------------   -----  \n 0   row_id                          100000 non-null  int64  \n 1   timestamp                       100000 non-null  int64  \n 2   user_id                         100000 non-null  int32  \n 3   content_id                      100000 non-null  int16  \n 4   content_type_id                 100000 non-null  int8   \n 5   task_container_id               100000 non-null  int16  \n 6   user_answer                     100000 non-null  int8   \n 7   answered_correctly              100000 non-null  int8   \n 8   prior_question_elapsed_time     97834 non-null   float32\n 9   prior_question_had_explanation  99652 non-null   boolean\ndtypes: boolean(1), float32(1), int16(2), int32(1), int64(2), int8(3)\nmemory usage: 3.1 MB\n"
     ]
    }
   ],
   "source": [
    "train_df.info()"
   ]
  },
  {
   "cell_type": "code",
   "execution_count": 20,
   "metadata": {},
   "outputs": [
    {
     "output_type": "execute_result",
     "data": {
      "text/plain": [
       "              row_id     timestamp       user_id    content_id  \\\n",
       "count  100000.000000  1.000000e+05  1.000000e+05  100000.00000   \n",
       "mean    49999.500000  7.332661e+09  1.090868e+06    5156.21962   \n",
       "std     28867.657797  1.031230e+10  6.657180e+05    3896.63440   \n",
       "min         0.000000  0.000000e+00  1.150000e+02       0.00000   \n",
       "25%     24999.750000  6.595929e+08  4.590170e+05    1797.00000   \n",
       "50%     49999.500000  4.015927e+09  1.282581e+06    4980.00000   \n",
       "75%     74999.250000  1.000065e+10  1.567938e+06    7427.00000   \n",
       "max     99999.000000  5.949531e+10  2.078569e+06   32736.00000   \n",
       "\n",
       "       content_type_id  task_container_id    user_answer  answered_correctly  \\\n",
       "count    100000.000000      100000.000000  100000.000000       100000.000000   \n",
       "mean          0.018180         974.593070       1.382490            0.655080   \n",
       "std           0.133603        1205.095836       1.193602            0.512165   \n",
       "min           0.000000           0.000000      -1.000000           -1.000000   \n",
       "25%           0.000000         124.000000       0.000000            0.000000   \n",
       "50%           0.000000         458.000000       1.000000            1.000000   \n",
       "75%           0.000000        1358.000000       3.000000            1.000000   \n",
       "max           1.000000        5630.000000       3.000000            1.000000   \n",
       "\n",
       "       prior_question_elapsed_time  \n",
       "count                 97834.000000  \n",
       "mean                  24715.390625  \n",
       "std                   17379.027344  \n",
       "min                       0.000000  \n",
       "25%                   16000.000000  \n",
       "50%                   21000.000000  \n",
       "75%                   28666.000000  \n",
       "max                  300000.000000  "
      ],
      "text/html": "<div>\n<style scoped>\n    .dataframe tbody tr th:only-of-type {\n        vertical-align: middle;\n    }\n\n    .dataframe tbody tr th {\n        vertical-align: top;\n    }\n\n    .dataframe thead th {\n        text-align: right;\n    }\n</style>\n<table border=\"1\" class=\"dataframe\">\n  <thead>\n    <tr style=\"text-align: right;\">\n      <th></th>\n      <th>row_id</th>\n      <th>timestamp</th>\n      <th>user_id</th>\n      <th>content_id</th>\n      <th>content_type_id</th>\n      <th>task_container_id</th>\n      <th>user_answer</th>\n      <th>answered_correctly</th>\n      <th>prior_question_elapsed_time</th>\n    </tr>\n  </thead>\n  <tbody>\n    <tr>\n      <th>count</th>\n      <td>100000.000000</td>\n      <td>1.000000e+05</td>\n      <td>1.000000e+05</td>\n      <td>100000.00000</td>\n      <td>100000.000000</td>\n      <td>100000.000000</td>\n      <td>100000.000000</td>\n      <td>100000.000000</td>\n      <td>97834.000000</td>\n    </tr>\n    <tr>\n      <th>mean</th>\n      <td>49999.500000</td>\n      <td>7.332661e+09</td>\n      <td>1.090868e+06</td>\n      <td>5156.21962</td>\n      <td>0.018180</td>\n      <td>974.593070</td>\n      <td>1.382490</td>\n      <td>0.655080</td>\n      <td>24715.390625</td>\n    </tr>\n    <tr>\n      <th>std</th>\n      <td>28867.657797</td>\n      <td>1.031230e+10</td>\n      <td>6.657180e+05</td>\n      <td>3896.63440</td>\n      <td>0.133603</td>\n      <td>1205.095836</td>\n      <td>1.193602</td>\n      <td>0.512165</td>\n      <td>17379.027344</td>\n    </tr>\n    <tr>\n      <th>min</th>\n      <td>0.000000</td>\n      <td>0.000000e+00</td>\n      <td>1.150000e+02</td>\n      <td>0.00000</td>\n      <td>0.000000</td>\n      <td>0.000000</td>\n      <td>-1.000000</td>\n      <td>-1.000000</td>\n      <td>0.000000</td>\n    </tr>\n    <tr>\n      <th>25%</th>\n      <td>24999.750000</td>\n      <td>6.595929e+08</td>\n      <td>4.590170e+05</td>\n      <td>1797.00000</td>\n      <td>0.000000</td>\n      <td>124.000000</td>\n      <td>0.000000</td>\n      <td>0.000000</td>\n      <td>16000.000000</td>\n    </tr>\n    <tr>\n      <th>50%</th>\n      <td>49999.500000</td>\n      <td>4.015927e+09</td>\n      <td>1.282581e+06</td>\n      <td>4980.00000</td>\n      <td>0.000000</td>\n      <td>458.000000</td>\n      <td>1.000000</td>\n      <td>1.000000</td>\n      <td>21000.000000</td>\n    </tr>\n    <tr>\n      <th>75%</th>\n      <td>74999.250000</td>\n      <td>1.000065e+10</td>\n      <td>1.567938e+06</td>\n      <td>7427.00000</td>\n      <td>0.000000</td>\n      <td>1358.000000</td>\n      <td>3.000000</td>\n      <td>1.000000</td>\n      <td>28666.000000</td>\n    </tr>\n    <tr>\n      <th>max</th>\n      <td>99999.000000</td>\n      <td>5.949531e+10</td>\n      <td>2.078569e+06</td>\n      <td>32736.00000</td>\n      <td>1.000000</td>\n      <td>5630.000000</td>\n      <td>3.000000</td>\n      <td>1.000000</td>\n      <td>300000.000000</td>\n    </tr>\n  </tbody>\n</table>\n</div>"
     },
     "metadata": {},
     "execution_count": 20
    }
   ],
   "source": [
    "train_df.select_dtypes(include='number').describe()"
   ]
  },
  {
   "cell_type": "code",
   "execution_count": 21,
   "metadata": {},
   "outputs": [
    {
     "output_type": "execute_result",
     "data": {
      "text/plain": [
       "       prior_question_had_explanation\n",
       "count                           99652\n",
       "unique                              2\n",
       "top                              True\n",
       "freq                            90349"
      ],
      "text/html": "<div>\n<style scoped>\n    .dataframe tbody tr th:only-of-type {\n        vertical-align: middle;\n    }\n\n    .dataframe tbody tr th {\n        vertical-align: top;\n    }\n\n    .dataframe thead th {\n        text-align: right;\n    }\n</style>\n<table border=\"1\" class=\"dataframe\">\n  <thead>\n    <tr style=\"text-align: right;\">\n      <th></th>\n      <th>prior_question_had_explanation</th>\n    </tr>\n  </thead>\n  <tbody>\n    <tr>\n      <th>count</th>\n      <td>99652</td>\n    </tr>\n    <tr>\n      <th>unique</th>\n      <td>2</td>\n    </tr>\n    <tr>\n      <th>top</th>\n      <td>True</td>\n    </tr>\n    <tr>\n      <th>freq</th>\n      <td>90349</td>\n    </tr>\n  </tbody>\n</table>\n</div>"
     },
     "metadata": {},
     "execution_count": 21
    }
   ],
   "source": [
    "train_df.select_dtypes(exclude='number').describe()"
   ]
  },
  {
   "cell_type": "code",
   "execution_count": 5,
   "metadata": {},
   "outputs": [],
   "source": [
    "questions_df = pd.read_csv(os.path.join(folder, 'questions.csv'))"
   ]
  },
  {
   "cell_type": "code",
   "execution_count": 6,
   "metadata": {},
   "outputs": [
    {
     "output_type": "execute_result",
     "data": {
      "text/plain": [
       "       question_id  bundle_id  correct_answer  part            tags\n",
       "0                0          0               0     1   51 131 162 38\n",
       "1                1          1               1     1       131 36 81\n",
       "2                2          2               0     1  131 101 162 92\n",
       "3                3          3               0     1  131 149 162 29\n",
       "4                4          4               3     1    131 5 162 38\n",
       "...            ...        ...             ...   ...             ...\n",
       "13518        13518      13518               3     5              14\n",
       "13519        13519      13519               3     5               8\n",
       "13520        13520      13520               2     5              73\n",
       "13521        13521      13521               0     5             125\n",
       "13522        13522      13522               3     5              55\n",
       "\n",
       "[13523 rows x 5 columns]"
      ],
      "text/html": "<div>\n<style scoped>\n    .dataframe tbody tr th:only-of-type {\n        vertical-align: middle;\n    }\n\n    .dataframe tbody tr th {\n        vertical-align: top;\n    }\n\n    .dataframe thead th {\n        text-align: right;\n    }\n</style>\n<table border=\"1\" class=\"dataframe\">\n  <thead>\n    <tr style=\"text-align: right;\">\n      <th></th>\n      <th>question_id</th>\n      <th>bundle_id</th>\n      <th>correct_answer</th>\n      <th>part</th>\n      <th>tags</th>\n    </tr>\n  </thead>\n  <tbody>\n    <tr>\n      <th>0</th>\n      <td>0</td>\n      <td>0</td>\n      <td>0</td>\n      <td>1</td>\n      <td>51 131 162 38</td>\n    </tr>\n    <tr>\n      <th>1</th>\n      <td>1</td>\n      <td>1</td>\n      <td>1</td>\n      <td>1</td>\n      <td>131 36 81</td>\n    </tr>\n    <tr>\n      <th>2</th>\n      <td>2</td>\n      <td>2</td>\n      <td>0</td>\n      <td>1</td>\n      <td>131 101 162 92</td>\n    </tr>\n    <tr>\n      <th>3</th>\n      <td>3</td>\n      <td>3</td>\n      <td>0</td>\n      <td>1</td>\n      <td>131 149 162 29</td>\n    </tr>\n    <tr>\n      <th>4</th>\n      <td>4</td>\n      <td>4</td>\n      <td>3</td>\n      <td>1</td>\n      <td>131 5 162 38</td>\n    </tr>\n    <tr>\n      <th>...</th>\n      <td>...</td>\n      <td>...</td>\n      <td>...</td>\n      <td>...</td>\n      <td>...</td>\n    </tr>\n    <tr>\n      <th>13518</th>\n      <td>13518</td>\n      <td>13518</td>\n      <td>3</td>\n      <td>5</td>\n      <td>14</td>\n    </tr>\n    <tr>\n      <th>13519</th>\n      <td>13519</td>\n      <td>13519</td>\n      <td>3</td>\n      <td>5</td>\n      <td>8</td>\n    </tr>\n    <tr>\n      <th>13520</th>\n      <td>13520</td>\n      <td>13520</td>\n      <td>2</td>\n      <td>5</td>\n      <td>73</td>\n    </tr>\n    <tr>\n      <th>13521</th>\n      <td>13521</td>\n      <td>13521</td>\n      <td>0</td>\n      <td>5</td>\n      <td>125</td>\n    </tr>\n    <tr>\n      <th>13522</th>\n      <td>13522</td>\n      <td>13522</td>\n      <td>3</td>\n      <td>5</td>\n      <td>55</td>\n    </tr>\n  </tbody>\n</table>\n<p>13523 rows × 5 columns</p>\n</div>"
     },
     "metadata": {},
     "execution_count": 6
    }
   ],
   "source": [
    "questions_df"
   ]
  },
  {
   "cell_type": "code",
   "execution_count": 23,
   "metadata": {},
   "outputs": [
    {
     "output_type": "stream",
     "name": "stdout",
     "text": [
      "<class 'pandas.core.frame.DataFrame'>\nRangeIndex: 13523 entries, 0 to 13522\nData columns (total 5 columns):\n #   Column          Non-Null Count  Dtype \n---  ------          --------------  ----- \n 0   question_id     13523 non-null  int64 \n 1   bundle_id       13523 non-null  int64 \n 2   correct_answer  13523 non-null  int64 \n 3   part            13523 non-null  int64 \n 4   tags            13522 non-null  object\ndtypes: int64(4), object(1)\nmemory usage: 528.4+ KB\n"
     ]
    }
   ],
   "source": [
    "questions_df.info()"
   ]
  },
  {
   "cell_type": "code",
   "execution_count": 7,
   "metadata": {},
   "outputs": [],
   "source": [
    "lectures_df = pd.read_csv(os.path.join(folder, 'lectures.csv'))"
   ]
  },
  {
   "cell_type": "code",
   "execution_count": 8,
   "metadata": {},
   "outputs": [
    {
     "output_type": "execute_result",
     "data": {
      "text/plain": [
       "     lecture_id    tag  part           type_of\n",
       "0            89  24584     5           concept\n",
       "1           100  22243     1           concept\n",
       "2           185   7035     6           concept\n",
       "3           192  31458     5  solving question\n",
       "4           317  19653     5  solving question\n",
       "..          ...    ...   ...               ...\n",
       "413       32535  20004     5  solving question\n",
       "414       32570   4358     3  solving question\n",
       "415       32604   9093     6           concept\n",
       "416       32625  23993     2           concept\n",
       "417       32736  25432     3           concept\n",
       "\n",
       "[418 rows x 4 columns]"
      ],
      "text/html": "<div>\n<style scoped>\n    .dataframe tbody tr th:only-of-type {\n        vertical-align: middle;\n    }\n\n    .dataframe tbody tr th {\n        vertical-align: top;\n    }\n\n    .dataframe thead th {\n        text-align: right;\n    }\n</style>\n<table border=\"1\" class=\"dataframe\">\n  <thead>\n    <tr style=\"text-align: right;\">\n      <th></th>\n      <th>lecture_id</th>\n      <th>tag</th>\n      <th>part</th>\n      <th>type_of</th>\n    </tr>\n  </thead>\n  <tbody>\n    <tr>\n      <th>0</th>\n      <td>89</td>\n      <td>24584</td>\n      <td>5</td>\n      <td>concept</td>\n    </tr>\n    <tr>\n      <th>1</th>\n      <td>100</td>\n      <td>22243</td>\n      <td>1</td>\n      <td>concept</td>\n    </tr>\n    <tr>\n      <th>2</th>\n      <td>185</td>\n      <td>7035</td>\n      <td>6</td>\n      <td>concept</td>\n    </tr>\n    <tr>\n      <th>3</th>\n      <td>192</td>\n      <td>31458</td>\n      <td>5</td>\n      <td>solving question</td>\n    </tr>\n    <tr>\n      <th>4</th>\n      <td>317</td>\n      <td>19653</td>\n      <td>5</td>\n      <td>solving question</td>\n    </tr>\n    <tr>\n      <th>...</th>\n      <td>...</td>\n      <td>...</td>\n      <td>...</td>\n      <td>...</td>\n    </tr>\n    <tr>\n      <th>413</th>\n      <td>32535</td>\n      <td>20004</td>\n      <td>5</td>\n      <td>solving question</td>\n    </tr>\n    <tr>\n      <th>414</th>\n      <td>32570</td>\n      <td>4358</td>\n      <td>3</td>\n      <td>solving question</td>\n    </tr>\n    <tr>\n      <th>415</th>\n      <td>32604</td>\n      <td>9093</td>\n      <td>6</td>\n      <td>concept</td>\n    </tr>\n    <tr>\n      <th>416</th>\n      <td>32625</td>\n      <td>23993</td>\n      <td>2</td>\n      <td>concept</td>\n    </tr>\n    <tr>\n      <th>417</th>\n      <td>32736</td>\n      <td>25432</td>\n      <td>3</td>\n      <td>concept</td>\n    </tr>\n  </tbody>\n</table>\n<p>418 rows × 4 columns</p>\n</div>"
     },
     "metadata": {},
     "execution_count": 8
    }
   ],
   "source": [
    "lectures_df"
   ]
  },
  {
   "cell_type": "code",
   "execution_count": 24,
   "metadata": {},
   "outputs": [
    {
     "output_type": "stream",
     "name": "stdout",
     "text": [
      "<class 'pandas.core.frame.DataFrame'>\nRangeIndex: 418 entries, 0 to 417\nData columns (total 4 columns):\n #   Column      Non-Null Count  Dtype \n---  ------      --------------  ----- \n 0   lecture_id  418 non-null    int64 \n 1   tag         418 non-null    int64 \n 2   part        418 non-null    int64 \n 3   type_of     418 non-null    object\ndtypes: int64(3), object(1)\nmemory usage: 13.2+ KB\n"
     ]
    }
   ],
   "source": [
    "lectures_df.info()"
   ]
  },
  {
   "cell_type": "code",
   "execution_count": 10,
   "metadata": {},
   "outputs": [],
   "source": [
    "example_test_df = pd.read_csv(os.path.join(folder, 'example_test.csv'))"
   ]
  },
  {
   "cell_type": "code",
   "execution_count": 11,
   "metadata": {},
   "outputs": [
    {
     "output_type": "execute_result",
     "data": {
      "text/plain": [
       "     row_id  group_num    timestamp     user_id  content_id  content_type_id  \\\n",
       "0         0          0            0   275030867        5729                0   \n",
       "1         1          0  13309898705   554169193       12010                0   \n",
       "2         2          0   4213672059  1720860329         457                0   \n",
       "3         3          0  62798072960   288641214       13262                0   \n",
       "4         4          0  10585422061  1728340777        6119                0   \n",
       "..      ...        ...          ...         ...         ...              ...   \n",
       "99      104          3  13167339284  1900527744        3004                0   \n",
       "100     105          3  13167339284  1900527744        3003                0   \n",
       "101     106          3  64497673060     7792299        7908                0   \n",
       "102     107          3  62798166743   288641214        9077                0   \n",
       "103     108          3   2059176357  2018567473       12119                0   \n",
       "\n",
       "     task_container_id  prior_question_elapsed_time  \\\n",
       "0                    0                          NaN   \n",
       "1                 4427                      19000.0   \n",
       "2                  240                      17000.0   \n",
       "3                  266                      23000.0   \n",
       "4                  162                      72400.0   \n",
       "..                 ...                          ...   \n",
       "99                1179                      24667.0   \n",
       "100               1179                      24667.0   \n",
       "101                676                      19000.0   \n",
       "102                269                      25000.0   \n",
       "103                591                      20000.0   \n",
       "\n",
       "    prior_question_had_explanation prior_group_answers_correct  \\\n",
       "0                              NaN                          []   \n",
       "1                             True                         NaN   \n",
       "2                             True                         NaN   \n",
       "3                             True                         NaN   \n",
       "4                             True                         NaN   \n",
       "..                             ...                         ...   \n",
       "99                            True                         NaN   \n",
       "100                           True                         NaN   \n",
       "101                           True                         NaN   \n",
       "102                           True                         NaN   \n",
       "103                           True                         NaN   \n",
       "\n",
       "    prior_group_responses  \n",
       "0                      []  \n",
       "1                     NaN  \n",
       "2                     NaN  \n",
       "3                     NaN  \n",
       "4                     NaN  \n",
       "..                    ...  \n",
       "99                    NaN  \n",
       "100                   NaN  \n",
       "101                   NaN  \n",
       "102                   NaN  \n",
       "103                   NaN  \n",
       "\n",
       "[104 rows x 11 columns]"
      ],
      "text/html": "<div>\n<style scoped>\n    .dataframe tbody tr th:only-of-type {\n        vertical-align: middle;\n    }\n\n    .dataframe tbody tr th {\n        vertical-align: top;\n    }\n\n    .dataframe thead th {\n        text-align: right;\n    }\n</style>\n<table border=\"1\" class=\"dataframe\">\n  <thead>\n    <tr style=\"text-align: right;\">\n      <th></th>\n      <th>row_id</th>\n      <th>group_num</th>\n      <th>timestamp</th>\n      <th>user_id</th>\n      <th>content_id</th>\n      <th>content_type_id</th>\n      <th>task_container_id</th>\n      <th>prior_question_elapsed_time</th>\n      <th>prior_question_had_explanation</th>\n      <th>prior_group_answers_correct</th>\n      <th>prior_group_responses</th>\n    </tr>\n  </thead>\n  <tbody>\n    <tr>\n      <th>0</th>\n      <td>0</td>\n      <td>0</td>\n      <td>0</td>\n      <td>275030867</td>\n      <td>5729</td>\n      <td>0</td>\n      <td>0</td>\n      <td>NaN</td>\n      <td>NaN</td>\n      <td>[]</td>\n      <td>[]</td>\n    </tr>\n    <tr>\n      <th>1</th>\n      <td>1</td>\n      <td>0</td>\n      <td>13309898705</td>\n      <td>554169193</td>\n      <td>12010</td>\n      <td>0</td>\n      <td>4427</td>\n      <td>19000.0</td>\n      <td>True</td>\n      <td>NaN</td>\n      <td>NaN</td>\n    </tr>\n    <tr>\n      <th>2</th>\n      <td>2</td>\n      <td>0</td>\n      <td>4213672059</td>\n      <td>1720860329</td>\n      <td>457</td>\n      <td>0</td>\n      <td>240</td>\n      <td>17000.0</td>\n      <td>True</td>\n      <td>NaN</td>\n      <td>NaN</td>\n    </tr>\n    <tr>\n      <th>3</th>\n      <td>3</td>\n      <td>0</td>\n      <td>62798072960</td>\n      <td>288641214</td>\n      <td>13262</td>\n      <td>0</td>\n      <td>266</td>\n      <td>23000.0</td>\n      <td>True</td>\n      <td>NaN</td>\n      <td>NaN</td>\n    </tr>\n    <tr>\n      <th>4</th>\n      <td>4</td>\n      <td>0</td>\n      <td>10585422061</td>\n      <td>1728340777</td>\n      <td>6119</td>\n      <td>0</td>\n      <td>162</td>\n      <td>72400.0</td>\n      <td>True</td>\n      <td>NaN</td>\n      <td>NaN</td>\n    </tr>\n    <tr>\n      <th>...</th>\n      <td>...</td>\n      <td>...</td>\n      <td>...</td>\n      <td>...</td>\n      <td>...</td>\n      <td>...</td>\n      <td>...</td>\n      <td>...</td>\n      <td>...</td>\n      <td>...</td>\n      <td>...</td>\n    </tr>\n    <tr>\n      <th>99</th>\n      <td>104</td>\n      <td>3</td>\n      <td>13167339284</td>\n      <td>1900527744</td>\n      <td>3004</td>\n      <td>0</td>\n      <td>1179</td>\n      <td>24667.0</td>\n      <td>True</td>\n      <td>NaN</td>\n      <td>NaN</td>\n    </tr>\n    <tr>\n      <th>100</th>\n      <td>105</td>\n      <td>3</td>\n      <td>13167339284</td>\n      <td>1900527744</td>\n      <td>3003</td>\n      <td>0</td>\n      <td>1179</td>\n      <td>24667.0</td>\n      <td>True</td>\n      <td>NaN</td>\n      <td>NaN</td>\n    </tr>\n    <tr>\n      <th>101</th>\n      <td>106</td>\n      <td>3</td>\n      <td>64497673060</td>\n      <td>7792299</td>\n      <td>7908</td>\n      <td>0</td>\n      <td>676</td>\n      <td>19000.0</td>\n      <td>True</td>\n      <td>NaN</td>\n      <td>NaN</td>\n    </tr>\n    <tr>\n      <th>102</th>\n      <td>107</td>\n      <td>3</td>\n      <td>62798166743</td>\n      <td>288641214</td>\n      <td>9077</td>\n      <td>0</td>\n      <td>269</td>\n      <td>25000.0</td>\n      <td>True</td>\n      <td>NaN</td>\n      <td>NaN</td>\n    </tr>\n    <tr>\n      <th>103</th>\n      <td>108</td>\n      <td>3</td>\n      <td>2059176357</td>\n      <td>2018567473</td>\n      <td>12119</td>\n      <td>0</td>\n      <td>591</td>\n      <td>20000.0</td>\n      <td>True</td>\n      <td>NaN</td>\n      <td>NaN</td>\n    </tr>\n  </tbody>\n</table>\n<p>104 rows × 11 columns</p>\n</div>"
     },
     "metadata": {},
     "execution_count": 11
    }
   ],
   "source": [
    "example_test_df"
   ]
  },
  {
   "cell_type": "code",
   "execution_count": 14,
   "metadata": {},
   "outputs": [
    {
     "output_type": "execute_result",
     "data": {
      "text/plain": [
       "           row_id   group_num     timestamp       user_id    content_id  \\\n",
       "count  104.000000  104.000000  1.040000e+02  1.040000e+02    104.000000   \n",
       "mean    53.480769    1.711538  1.669283e+10  1.156358e+09   6772.701923   \n",
       "std     32.012734    1.094320  2.039655e+10  5.966096e+08   4503.710852   \n",
       "min      0.000000    0.000000  0.000000e+00  7.792299e+06     18.000000   \n",
       "25%     25.750000    1.000000  1.574161e+09  6.448233e+08   2028.750000   \n",
       "50%     53.500000    2.000000  4.693169e+09  1.257605e+09   6225.500000   \n",
       "75%     80.250000    3.000000  2.746557e+10  1.609175e+09  11031.250000   \n",
       "max    108.000000    3.000000  7.681646e+10  2.103437e+09  13354.000000   \n",
       "\n",
       "       content_type_id  task_container_id  prior_question_elapsed_time  \n",
       "count            104.0         104.000000                   103.000000  \n",
       "mean               0.0        1094.413462                 24949.631068  \n",
       "std                0.0        1588.054159                  9969.308932  \n",
       "min                0.0           0.000000                  7000.000000  \n",
       "25%                0.0         162.750000                 18000.000000  \n",
       "50%                0.0         378.500000                 24667.000000  \n",
       "75%                0.0        1179.000000                 28875.000000  \n",
       "max                0.0        6958.000000                 72400.000000  "
      ],
      "text/html": "<div>\n<style scoped>\n    .dataframe tbody tr th:only-of-type {\n        vertical-align: middle;\n    }\n\n    .dataframe tbody tr th {\n        vertical-align: top;\n    }\n\n    .dataframe thead th {\n        text-align: right;\n    }\n</style>\n<table border=\"1\" class=\"dataframe\">\n  <thead>\n    <tr style=\"text-align: right;\">\n      <th></th>\n      <th>row_id</th>\n      <th>group_num</th>\n      <th>timestamp</th>\n      <th>user_id</th>\n      <th>content_id</th>\n      <th>content_type_id</th>\n      <th>task_container_id</th>\n      <th>prior_question_elapsed_time</th>\n    </tr>\n  </thead>\n  <tbody>\n    <tr>\n      <th>count</th>\n      <td>104.000000</td>\n      <td>104.000000</td>\n      <td>1.040000e+02</td>\n      <td>1.040000e+02</td>\n      <td>104.000000</td>\n      <td>104.0</td>\n      <td>104.000000</td>\n      <td>103.000000</td>\n    </tr>\n    <tr>\n      <th>mean</th>\n      <td>53.480769</td>\n      <td>1.711538</td>\n      <td>1.669283e+10</td>\n      <td>1.156358e+09</td>\n      <td>6772.701923</td>\n      <td>0.0</td>\n      <td>1094.413462</td>\n      <td>24949.631068</td>\n    </tr>\n    <tr>\n      <th>std</th>\n      <td>32.012734</td>\n      <td>1.094320</td>\n      <td>2.039655e+10</td>\n      <td>5.966096e+08</td>\n      <td>4503.710852</td>\n      <td>0.0</td>\n      <td>1588.054159</td>\n      <td>9969.308932</td>\n    </tr>\n    <tr>\n      <th>min</th>\n      <td>0.000000</td>\n      <td>0.000000</td>\n      <td>0.000000e+00</td>\n      <td>7.792299e+06</td>\n      <td>18.000000</td>\n      <td>0.0</td>\n      <td>0.000000</td>\n      <td>7000.000000</td>\n    </tr>\n    <tr>\n      <th>25%</th>\n      <td>25.750000</td>\n      <td>1.000000</td>\n      <td>1.574161e+09</td>\n      <td>6.448233e+08</td>\n      <td>2028.750000</td>\n      <td>0.0</td>\n      <td>162.750000</td>\n      <td>18000.000000</td>\n    </tr>\n    <tr>\n      <th>50%</th>\n      <td>53.500000</td>\n      <td>2.000000</td>\n      <td>4.693169e+09</td>\n      <td>1.257605e+09</td>\n      <td>6225.500000</td>\n      <td>0.0</td>\n      <td>378.500000</td>\n      <td>24667.000000</td>\n    </tr>\n    <tr>\n      <th>75%</th>\n      <td>80.250000</td>\n      <td>3.000000</td>\n      <td>2.746557e+10</td>\n      <td>1.609175e+09</td>\n      <td>11031.250000</td>\n      <td>0.0</td>\n      <td>1179.000000</td>\n      <td>28875.000000</td>\n    </tr>\n    <tr>\n      <th>max</th>\n      <td>108.000000</td>\n      <td>3.000000</td>\n      <td>7.681646e+10</td>\n      <td>2.103437e+09</td>\n      <td>13354.000000</td>\n      <td>0.0</td>\n      <td>6958.000000</td>\n      <td>72400.000000</td>\n    </tr>\n  </tbody>\n</table>\n</div>"
     },
     "metadata": {},
     "execution_count": 14
    }
   ],
   "source": [
    "example_test_df.select_dtypes(include='number').describe()"
   ]
  },
  {
   "cell_type": "code",
   "execution_count": 19,
   "metadata": {},
   "outputs": [
    {
     "output_type": "execute_result",
     "data": {
      "text/plain": [
       "       prior_question_had_explanation prior_group_answers_correct  \\\n",
       "count                             103                           4   \n",
       "unique                              2                           4   \n",
       "top                              True                          []   \n",
       "freq                              100                           1   \n",
       "\n",
       "       prior_group_responses  \n",
       "count                      4  \n",
       "unique                     4  \n",
       "top                       []  \n",
       "freq                       1  "
      ],
      "text/html": "<div>\n<style scoped>\n    .dataframe tbody tr th:only-of-type {\n        vertical-align: middle;\n    }\n\n    .dataframe tbody tr th {\n        vertical-align: top;\n    }\n\n    .dataframe thead th {\n        text-align: right;\n    }\n</style>\n<table border=\"1\" class=\"dataframe\">\n  <thead>\n    <tr style=\"text-align: right;\">\n      <th></th>\n      <th>prior_question_had_explanation</th>\n      <th>prior_group_answers_correct</th>\n      <th>prior_group_responses</th>\n    </tr>\n  </thead>\n  <tbody>\n    <tr>\n      <th>count</th>\n      <td>103</td>\n      <td>4</td>\n      <td>4</td>\n    </tr>\n    <tr>\n      <th>unique</th>\n      <td>2</td>\n      <td>4</td>\n      <td>4</td>\n    </tr>\n    <tr>\n      <th>top</th>\n      <td>True</td>\n      <td>[]</td>\n      <td>[]</td>\n    </tr>\n    <tr>\n      <th>freq</th>\n      <td>100</td>\n      <td>1</td>\n      <td>1</td>\n    </tr>\n  </tbody>\n</table>\n</div>"
     },
     "metadata": {},
     "execution_count": 19
    }
   ],
   "source": [
    "example_test_df.select_dtypes(exclude='number').describe()"
   ]
  },
  {
   "cell_type": "code",
   "execution_count": null,
   "metadata": {},
   "outputs": [],
   "source": []
  }
 ]
}