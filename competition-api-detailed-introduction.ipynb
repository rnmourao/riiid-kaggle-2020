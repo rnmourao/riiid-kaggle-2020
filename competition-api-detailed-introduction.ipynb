{
 "cells": [
  {
   "cell_type": "markdown",
   "metadata": {
    "_cell_guid": "b1076dfc-b9ad-4769-8c92-a6c4dae69d19",
    "_uuid": "8f2839f25d086af736a60e9eeb907d3b93b6e0e5",
    "papermill": {
     "duration": 0.012969,
     "end_time": "2020-10-07T16:19:52.712262",
     "exception": false,
     "start_time": "2020-10-07T16:19:52.699293",
     "status": "completed"
    },
    "tags": []
   },
   "source": [
    "# Riiid! Answer Correctness Prediction\n",
    "## Introduction\n",
    "In this competition you will predict which questions each student is able to answer correctly. You will loop through a series of batches of questions. Once you make that prediction, you can move on to the next batch.\n",
    "\n",
    "This competition is different from most Kaggle Competitions in that:\n",
    "* You can only submit from Kaggle Notebooks\n",
    "* You must use our custom **`riiideducation`** Python module.  The purpose of this module is to control the flow of information to ensure that you are not using future data to make predictions.  If you do not use this module properly, your code may fail.\n",
    "\n",
    "## In this Starter Notebook, we'll show how to use the **`riiideducation`** module to get the test features and make predictions.\n",
    "## TL;DR: End-to-End Usage Example\n",
    "```\n",
    "import riiideducation\n",
    "env = riiideducation.make_env()\n",
    "\n",
    "# Training data is in the competition dataset as usual\n",
    "train_df = pd.read_csv('/kaggle/input/riiideducation/train.csv', low_memory=False)\n",
    "train_my_model(train_df)\n",
    "\n",
    "for (test_df, sample_prediction_df) in iter_test:\n",
    "    test_df['answered_correctly'] = 0.5\n",
    "    env.predict(test_df.loc[test_df['content_type_id'] == 0, ['row_id', 'answered_correctly']])```\n",
    "Note that `train_my_model` is a function you need to write for the above example to work."
   ]
  },
  {
   "cell_type": "markdown",
   "metadata": {
    "papermill": {
     "duration": 0.011659,
     "end_time": "2020-10-07T16:19:52.735922",
     "exception": false,
     "start_time": "2020-10-07T16:19:52.724263",
     "status": "completed"
    },
    "tags": []
   },
   "source": [
    "## In-depth Introduction\n",
    "First let's import the module and create an environment."
   ]
  },
  {
   "cell_type": "code",
   "execution_count": 1,
   "metadata": {
    "execution": {
     "iopub.execute_input": "2020-10-07T16:19:52.763249Z",
     "iopub.status.busy": "2020-10-07T16:19:52.762567Z",
     "iopub.status.idle": "2020-10-07T16:19:52.773287Z",
     "shell.execute_reply": "2020-10-07T16:19:52.772779Z"
    },
    "papermill": {
     "duration": 0.025576,
     "end_time": "2020-10-07T16:19:52.773376",
     "exception": false,
     "start_time": "2020-10-07T16:19:52.747800",
     "status": "completed"
    },
    "tags": []
   },
   "outputs": [],
   "source": [
    "# import riiideducation\n",
    "import pandas as pd\n",
    "\n",
    "# You can only call make_env() once, so don't lose it!\n",
    "# env = riiideducation.make_env()"
   ]
  },
  {
   "cell_type": "code",
   "execution_count": 2,
   "metadata": {},
   "outputs": [],
   "source": [
    "folder = '/kaggle/input'"
   ]
  },
  {
   "cell_type": "code",
   "execution_count": 3,
   "metadata": {
    "execution": {
     "iopub.execute_input": "2020-10-07T16:19:52.802461Z",
     "iopub.status.busy": "2020-10-07T16:19:52.801888Z",
     "iopub.status.idle": "2020-10-07T16:19:52.807461Z",
     "shell.execute_reply": "2020-10-07T16:19:52.807927Z"
    },
    "papermill": {
     "duration": 0.022062,
     "end_time": "2020-10-07T16:19:52.808044",
     "exception": false,
     "start_time": "2020-10-07T16:19:52.785982",
     "status": "completed"
    },
    "tags": []
   },
   "outputs": [
    {
     "output_type": "stream",
     "name": "stdout",
     "text": [
      "/media/mourao/BACKUP/kaggle.com/c/riiid-test-answer-prediction/data/train.csv\n/media/mourao/BACKUP/kaggle.com/c/riiid-test-answer-prediction/data/lectures.csv\n/media/mourao/BACKUP/kaggle.com/c/riiid-test-answer-prediction/data/example_test.csv\n/media/mourao/BACKUP/kaggle.com/c/riiid-test-answer-prediction/data/example_sample_submission.csv\n/media/mourao/BACKUP/kaggle.com/c/riiid-test-answer-prediction/data/questions.csv\n"
     ]
    }
   ],
   "source": [
    "import os\n",
    "for dirname, _, filenames in os.walk(folder):\n",
    "    for filename in filenames:\n",
    "        print(os.path.join(dirname, filename))"
   ]
  },
  {
   "cell_type": "markdown",
   "metadata": {
    "papermill": {
     "duration": 0.008332,
     "end_time": "2020-10-07T16:19:52.826117",
     "exception": false,
     "start_time": "2020-10-07T16:19:52.817785",
     "status": "completed"
    },
    "tags": []
   },
   "source": [
    "### Training data is in the competition dataset as usual\n",
    "It's larger than will fit in memory with default settings, so we'll specify more efficient datatypes and only load a subset of the data for now."
   ]
  },
  {
   "cell_type": "code",
   "execution_count": 6,
   "metadata": {
    "execution": {
     "iopub.execute_input": "2020-10-07T16:19:52.852187Z",
     "iopub.status.busy": "2020-10-07T16:19:52.851387Z",
     "iopub.status.idle": "2020-10-07T16:19:53.031375Z",
     "shell.execute_reply": "2020-10-07T16:19:53.031750Z"
    },
    "papermill": {
     "duration": 0.195795,
     "end_time": "2020-10-07T16:19:53.031863",
     "exception": false,
     "start_time": "2020-10-07T16:19:52.836068",
     "status": "completed"
    },
    "tags": []
   },
   "outputs": [
    {
     "output_type": "execute_result",
     "data": {
      "text/plain": [
       "       row_id  timestamp  user_id  content_id  content_type_id  \\\n",
       "0           0          0      115        5692                0   \n",
       "1           1      56943      115        5716                0   \n",
       "2           2     118363      115         128                0   \n",
       "3           3     131167      115        7860                0   \n",
       "4           4     137965      115        7922                0   \n",
       "...       ...        ...      ...         ...              ...   \n",
       "99995   99995  153647401  2078569        4334                0   \n",
       "99996   99996  153692472  2078569        6436                0   \n",
       "99997   99997  153722998  2078569        6446                0   \n",
       "99998   99998  153759775  2078569        3715                0   \n",
       "99999   99999  153842445  2078569        5624                0   \n",
       "\n",
       "       task_container_id  user_answer  answered_correctly  \\\n",
       "0                      1            3                   1   \n",
       "1                      2            2                   1   \n",
       "2                      0            0                   1   \n",
       "3                      3            0                   1   \n",
       "4                      4            1                   1   \n",
       "...                  ...          ...                 ...   \n",
       "99995                275            3                   0   \n",
       "99996                276            3                   0   \n",
       "99997                277            2                   1   \n",
       "99998                278            3                   0   \n",
       "99999                279            3                   1   \n",
       "\n",
       "       prior_question_elapsed_time  prior_question_had_explanation  \n",
       "0                              NaN                            <NA>  \n",
       "1                          37000.0                           False  \n",
       "2                          55000.0                           False  \n",
       "3                          19000.0                           False  \n",
       "4                          11000.0                           False  \n",
       "...                            ...                             ...  \n",
       "99995                       6000.0                            True  \n",
       "99996                       9000.0                            True  \n",
       "99997                      21000.0                            True  \n",
       "99998                      12000.0                            True  \n",
       "99999                      16000.0                            True  \n",
       "\n",
       "[100000 rows x 10 columns]"
      ],
      "text/html": "<div>\n<style scoped>\n    .dataframe tbody tr th:only-of-type {\n        vertical-align: middle;\n    }\n\n    .dataframe tbody tr th {\n        vertical-align: top;\n    }\n\n    .dataframe thead th {\n        text-align: right;\n    }\n</style>\n<table border=\"1\" class=\"dataframe\">\n  <thead>\n    <tr style=\"text-align: right;\">\n      <th></th>\n      <th>row_id</th>\n      <th>timestamp</th>\n      <th>user_id</th>\n      <th>content_id</th>\n      <th>content_type_id</th>\n      <th>task_container_id</th>\n      <th>user_answer</th>\n      <th>answered_correctly</th>\n      <th>prior_question_elapsed_time</th>\n      <th>prior_question_had_explanation</th>\n    </tr>\n  </thead>\n  <tbody>\n    <tr>\n      <th>0</th>\n      <td>0</td>\n      <td>0</td>\n      <td>115</td>\n      <td>5692</td>\n      <td>0</td>\n      <td>1</td>\n      <td>3</td>\n      <td>1</td>\n      <td>NaN</td>\n      <td>&lt;NA&gt;</td>\n    </tr>\n    <tr>\n      <th>1</th>\n      <td>1</td>\n      <td>56943</td>\n      <td>115</td>\n      <td>5716</td>\n      <td>0</td>\n      <td>2</td>\n      <td>2</td>\n      <td>1</td>\n      <td>37000.0</td>\n      <td>False</td>\n    </tr>\n    <tr>\n      <th>2</th>\n      <td>2</td>\n      <td>118363</td>\n      <td>115</td>\n      <td>128</td>\n      <td>0</td>\n      <td>0</td>\n      <td>0</td>\n      <td>1</td>\n      <td>55000.0</td>\n      <td>False</td>\n    </tr>\n    <tr>\n      <th>3</th>\n      <td>3</td>\n      <td>131167</td>\n      <td>115</td>\n      <td>7860</td>\n      <td>0</td>\n      <td>3</td>\n      <td>0</td>\n      <td>1</td>\n      <td>19000.0</td>\n      <td>False</td>\n    </tr>\n    <tr>\n      <th>4</th>\n      <td>4</td>\n      <td>137965</td>\n      <td>115</td>\n      <td>7922</td>\n      <td>0</td>\n      <td>4</td>\n      <td>1</td>\n      <td>1</td>\n      <td>11000.0</td>\n      <td>False</td>\n    </tr>\n    <tr>\n      <th>...</th>\n      <td>...</td>\n      <td>...</td>\n      <td>...</td>\n      <td>...</td>\n      <td>...</td>\n      <td>...</td>\n      <td>...</td>\n      <td>...</td>\n      <td>...</td>\n      <td>...</td>\n    </tr>\n    <tr>\n      <th>99995</th>\n      <td>99995</td>\n      <td>153647401</td>\n      <td>2078569</td>\n      <td>4334</td>\n      <td>0</td>\n      <td>275</td>\n      <td>3</td>\n      <td>0</td>\n      <td>6000.0</td>\n      <td>True</td>\n    </tr>\n    <tr>\n      <th>99996</th>\n      <td>99996</td>\n      <td>153692472</td>\n      <td>2078569</td>\n      <td>6436</td>\n      <td>0</td>\n      <td>276</td>\n      <td>3</td>\n      <td>0</td>\n      <td>9000.0</td>\n      <td>True</td>\n    </tr>\n    <tr>\n      <th>99997</th>\n      <td>99997</td>\n      <td>153722998</td>\n      <td>2078569</td>\n      <td>6446</td>\n      <td>0</td>\n      <td>277</td>\n      <td>2</td>\n      <td>1</td>\n      <td>21000.0</td>\n      <td>True</td>\n    </tr>\n    <tr>\n      <th>99998</th>\n      <td>99998</td>\n      <td>153759775</td>\n      <td>2078569</td>\n      <td>3715</td>\n      <td>0</td>\n      <td>278</td>\n      <td>3</td>\n      <td>0</td>\n      <td>12000.0</td>\n      <td>True</td>\n    </tr>\n    <tr>\n      <th>99999</th>\n      <td>99999</td>\n      <td>153842445</td>\n      <td>2078569</td>\n      <td>5624</td>\n      <td>0</td>\n      <td>279</td>\n      <td>3</td>\n      <td>1</td>\n      <td>16000.0</td>\n      <td>True</td>\n    </tr>\n  </tbody>\n</table>\n<p>100000 rows × 10 columns</p>\n</div>"
     },
     "metadata": {},
     "execution_count": 6
    }
   ],
   "source": [
    "train_df = pd.read_csv(os.path.join(folder, 'train.csv'), low_memory=False, nrows=10**5, \n",
    "                       dtype={'row_id': 'int64', 'timestamp': 'int64', 'user_id': 'int32', 'content_id': 'int16', 'content_type_id': 'int8',\n",
    "                              'task_container_id': 'int16', 'user_answer': 'int8', 'answered_correctly': 'int8', 'prior_question_elapsed_time': 'float32', \n",
    "                             'prior_question_had_explanation': 'boolean',\n",
    "                             }\n",
    "                      )\n",
    "train_df"
   ]
  },
  {
   "cell_type": "markdown",
   "metadata": {
    "papermill": {
     "duration": 0.009399,
     "end_time": "2020-10-07T16:19:53.051134",
     "exception": false,
     "start_time": "2020-10-07T16:19:53.041735",
     "status": "completed"
    },
    "tags": []
   },
   "source": [
    "## `iter_test` function\n",
    "\n",
    "Generator which loops through each batch of questions in the test set. You have direct access to the example test rows for your convenience, but your code will only be able to get rows from the real test set via the API. Once you call **`predict`** you can continue on to the next batch.\n",
    "\n",
    "Yields:\n",
    "* While there are more batch(es) and `predict` was called successfully since the last yield, yields a tuple of:\n",
    "    * `test_df`: DataFrame with the test features for the next batch, and user responses for the previous batch.\n",
    "    * `sample_prediction_df`: DataFrame with an example prediction.  Intended to be filled in and passed back to the `predict` function.\n",
    "* If `predict` has not been called successfully since the last yield, prints an error and yields `None`."
   ]
  },
  {
   "cell_type": "code",
   "execution_count": 4,
   "metadata": {
    "execution": {
     "iopub.execute_input": "2020-10-07T16:19:53.073545Z",
     "iopub.status.busy": "2020-10-07T16:19:53.072984Z",
     "iopub.status.idle": "2020-10-07T16:19:53.076239Z",
     "shell.execute_reply": "2020-10-07T16:19:53.075665Z"
    },
    "papermill": {
     "duration": 0.015737,
     "end_time": "2020-10-07T16:19:53.076319",
     "exception": false,
     "start_time": "2020-10-07T16:19:53.060582",
     "status": "completed"
    },
    "tags": []
   },
   "outputs": [],
   "source": [
    "# You can only iterate through a result from `env.iter_test()` once\n",
    "# so be careful not to lose it once you start iterating.\n",
    "iter_test = env.iter_test()"
   ]
  },
  {
   "cell_type": "markdown",
   "metadata": {
    "papermill": {
     "duration": 0.013342,
     "end_time": "2020-10-07T16:19:53.103271",
     "exception": false,
     "start_time": "2020-10-07T16:19:53.089929",
     "status": "completed"
    },
    "tags": []
   },
   "source": [
    "Let's get the data for the first test batch and check it out."
   ]
  },
  {
   "cell_type": "code",
   "execution_count": 5,
   "metadata": {
    "execution": {
     "iopub.execute_input": "2020-10-07T16:19:53.134650Z",
     "iopub.status.busy": "2020-10-07T16:19:53.134078Z",
     "iopub.status.idle": "2020-10-07T16:19:53.161914Z",
     "shell.execute_reply": "2020-10-07T16:19:53.162252Z"
    },
    "papermill": {
     "duration": 0.045372,
     "end_time": "2020-10-07T16:19:53.162353",
     "exception": false,
     "start_time": "2020-10-07T16:19:53.116981",
     "status": "completed"
    },
    "tags": []
   },
   "outputs": [
    {
     "data": {
      "text/html": [
       "<div>\n",
       "<style scoped>\n",
       "    .dataframe tbody tr th:only-of-type {\n",
       "        vertical-align: middle;\n",
       "    }\n",
       "\n",
       "    .dataframe tbody tr th {\n",
       "        vertical-align: top;\n",
       "    }\n",
       "\n",
       "    .dataframe thead th {\n",
       "        text-align: right;\n",
       "    }\n",
       "</style>\n",
       "<table border=\"1\" class=\"dataframe\">\n",
       "  <thead>\n",
       "    <tr style=\"text-align: right;\">\n",
       "      <th></th>\n",
       "      <th>row_id</th>\n",
       "      <th>timestamp</th>\n",
       "      <th>user_id</th>\n",
       "      <th>content_id</th>\n",
       "      <th>content_type_id</th>\n",
       "      <th>task_container_id</th>\n",
       "      <th>prior_question_elapsed_time</th>\n",
       "      <th>prior_question_had_explanation</th>\n",
       "      <th>prior_group_answers_correct</th>\n",
       "      <th>prior_group_responses</th>\n",
       "    </tr>\n",
       "    <tr>\n",
       "      <th>group_num</th>\n",
       "      <th></th>\n",
       "      <th></th>\n",
       "      <th></th>\n",
       "      <th></th>\n",
       "      <th></th>\n",
       "      <th></th>\n",
       "      <th></th>\n",
       "      <th></th>\n",
       "      <th></th>\n",
       "      <th></th>\n",
       "    </tr>\n",
       "  </thead>\n",
       "  <tbody>\n",
       "    <tr>\n",
       "      <th>0</th>\n",
       "      <td>0</td>\n",
       "      <td>0</td>\n",
       "      <td>275030867</td>\n",
       "      <td>5729</td>\n",
       "      <td>0</td>\n",
       "      <td>0</td>\n",
       "      <td>NaN</td>\n",
       "      <td>&lt;NA&gt;</td>\n",
       "      <td>[]</td>\n",
       "      <td>[]</td>\n",
       "    </tr>\n",
       "    <tr>\n",
       "      <th>0</th>\n",
       "      <td>1</td>\n",
       "      <td>13309898705</td>\n",
       "      <td>554169193</td>\n",
       "      <td>12010</td>\n",
       "      <td>0</td>\n",
       "      <td>4427</td>\n",
       "      <td>19000.0</td>\n",
       "      <td>True</td>\n",
       "      <td>NaN</td>\n",
       "      <td>NaN</td>\n",
       "    </tr>\n",
       "    <tr>\n",
       "      <th>0</th>\n",
       "      <td>2</td>\n",
       "      <td>4213672059</td>\n",
       "      <td>1720860329</td>\n",
       "      <td>457</td>\n",
       "      <td>0</td>\n",
       "      <td>240</td>\n",
       "      <td>17000.0</td>\n",
       "      <td>True</td>\n",
       "      <td>NaN</td>\n",
       "      <td>NaN</td>\n",
       "    </tr>\n",
       "    <tr>\n",
       "      <th>0</th>\n",
       "      <td>3</td>\n",
       "      <td>62798072960</td>\n",
       "      <td>288641214</td>\n",
       "      <td>13262</td>\n",
       "      <td>0</td>\n",
       "      <td>266</td>\n",
       "      <td>23000.0</td>\n",
       "      <td>True</td>\n",
       "      <td>NaN</td>\n",
       "      <td>NaN</td>\n",
       "    </tr>\n",
       "    <tr>\n",
       "      <th>0</th>\n",
       "      <td>4</td>\n",
       "      <td>10585422061</td>\n",
       "      <td>1728340777</td>\n",
       "      <td>6119</td>\n",
       "      <td>0</td>\n",
       "      <td>162</td>\n",
       "      <td>72400.0</td>\n",
       "      <td>True</td>\n",
       "      <td>NaN</td>\n",
       "      <td>NaN</td>\n",
       "    </tr>\n",
       "    <tr>\n",
       "      <th>0</th>\n",
       "      <td>5</td>\n",
       "      <td>18020362258</td>\n",
       "      <td>1364159702</td>\n",
       "      <td>12023</td>\n",
       "      <td>0</td>\n",
       "      <td>4424</td>\n",
       "      <td>18000.0</td>\n",
       "      <td>True</td>\n",
       "      <td>NaN</td>\n",
       "      <td>NaN</td>\n",
       "    </tr>\n",
       "    <tr>\n",
       "      <th>0</th>\n",
       "      <td>6</td>\n",
       "      <td>2325432079</td>\n",
       "      <td>1521618396</td>\n",
       "      <td>574</td>\n",
       "      <td>0</td>\n",
       "      <td>1367</td>\n",
       "      <td>18000.0</td>\n",
       "      <td>True</td>\n",
       "      <td>NaN</td>\n",
       "      <td>NaN</td>\n",
       "    </tr>\n",
       "    <tr>\n",
       "      <th>0</th>\n",
       "      <td>7</td>\n",
       "      <td>39456940781</td>\n",
       "      <td>1317245193</td>\n",
       "      <td>12043</td>\n",
       "      <td>0</td>\n",
       "      <td>5314</td>\n",
       "      <td>17000.0</td>\n",
       "      <td>True</td>\n",
       "      <td>NaN</td>\n",
       "      <td>NaN</td>\n",
       "    </tr>\n",
       "    <tr>\n",
       "      <th>0</th>\n",
       "      <td>8</td>\n",
       "      <td>3460555189</td>\n",
       "      <td>1700555100</td>\n",
       "      <td>7910</td>\n",
       "      <td>0</td>\n",
       "      <td>532</td>\n",
       "      <td>21000.0</td>\n",
       "      <td>True</td>\n",
       "      <td>NaN</td>\n",
       "      <td>NaN</td>\n",
       "    </tr>\n",
       "    <tr>\n",
       "      <th>0</th>\n",
       "      <td>9</td>\n",
       "      <td>2214770464</td>\n",
       "      <td>998511398</td>\n",
       "      <td>7908</td>\n",
       "      <td>0</td>\n",
       "      <td>393</td>\n",
       "      <td>21000.0</td>\n",
       "      <td>True</td>\n",
       "      <td>NaN</td>\n",
       "      <td>NaN</td>\n",
       "    </tr>\n",
       "    <tr>\n",
       "      <th>0</th>\n",
       "      <td>10</td>\n",
       "      <td>516803182</td>\n",
       "      <td>1422853669</td>\n",
       "      <td>1143</td>\n",
       "      <td>0</td>\n",
       "      <td>85</td>\n",
       "      <td>15000.0</td>\n",
       "      <td>True</td>\n",
       "      <td>NaN</td>\n",
       "      <td>NaN</td>\n",
       "    </tr>\n",
       "    <tr>\n",
       "      <th>0</th>\n",
       "      <td>11</td>\n",
       "      <td>2153839851</td>\n",
       "      <td>1096784725</td>\n",
       "      <td>11033</td>\n",
       "      <td>0</td>\n",
       "      <td>315</td>\n",
       "      <td>34250.0</td>\n",
       "      <td>True</td>\n",
       "      <td>NaN</td>\n",
       "      <td>NaN</td>\n",
       "    </tr>\n",
       "    <tr>\n",
       "      <th>0</th>\n",
       "      <td>12</td>\n",
       "      <td>2153839851</td>\n",
       "      <td>1096784725</td>\n",
       "      <td>11032</td>\n",
       "      <td>0</td>\n",
       "      <td>315</td>\n",
       "      <td>34250.0</td>\n",
       "      <td>True</td>\n",
       "      <td>NaN</td>\n",
       "      <td>NaN</td>\n",
       "    </tr>\n",
       "    <tr>\n",
       "      <th>0</th>\n",
       "      <td>13</td>\n",
       "      <td>2153839851</td>\n",
       "      <td>1096784725</td>\n",
       "      <td>11034</td>\n",
       "      <td>0</td>\n",
       "      <td>315</td>\n",
       "      <td>34250.0</td>\n",
       "      <td>True</td>\n",
       "      <td>NaN</td>\n",
       "      <td>NaN</td>\n",
       "    </tr>\n",
       "    <tr>\n",
       "      <th>0</th>\n",
       "      <td>14</td>\n",
       "      <td>2153839851</td>\n",
       "      <td>1096784725</td>\n",
       "      <td>11031</td>\n",
       "      <td>0</td>\n",
       "      <td>315</td>\n",
       "      <td>34250.0</td>\n",
       "      <td>True</td>\n",
       "      <td>NaN</td>\n",
       "      <td>NaN</td>\n",
       "    </tr>\n",
       "    <tr>\n",
       "      <th>0</th>\n",
       "      <td>15</td>\n",
       "      <td>1218852591</td>\n",
       "      <td>385471210</td>\n",
       "      <td>9538</td>\n",
       "      <td>0</td>\n",
       "      <td>378</td>\n",
       "      <td>11000.0</td>\n",
       "      <td>True</td>\n",
       "      <td>NaN</td>\n",
       "      <td>NaN</td>\n",
       "    </tr>\n",
       "    <tr>\n",
       "      <th>0</th>\n",
       "      <td>16</td>\n",
       "      <td>32722340115</td>\n",
       "      <td>1202386221</td>\n",
       "      <td>1002</td>\n",
       "      <td>0</td>\n",
       "      <td>136</td>\n",
       "      <td>16000.0</td>\n",
       "      <td>True</td>\n",
       "      <td>NaN</td>\n",
       "      <td>NaN</td>\n",
       "    </tr>\n",
       "    <tr>\n",
       "      <th>0</th>\n",
       "      <td>17</td>\n",
       "      <td>2059097926</td>\n",
       "      <td>2018567473</td>\n",
       "      <td>12148</td>\n",
       "      <td>0</td>\n",
       "      <td>589</td>\n",
       "      <td>17000.0</td>\n",
       "      <td>True</td>\n",
       "      <td>NaN</td>\n",
       "      <td>NaN</td>\n",
       "    </tr>\n",
       "  </tbody>\n",
       "</table>\n",
       "</div>"
      ],
      "text/plain": [
       "           row_id    timestamp     user_id  content_id  content_type_id  \\\n",
       "group_num                                                                 \n",
       "0               0            0   275030867        5729                0   \n",
       "0               1  13309898705   554169193       12010                0   \n",
       "0               2   4213672059  1720860329         457                0   \n",
       "0               3  62798072960   288641214       13262                0   \n",
       "0               4  10585422061  1728340777        6119                0   \n",
       "0               5  18020362258  1364159702       12023                0   \n",
       "0               6   2325432079  1521618396         574                0   \n",
       "0               7  39456940781  1317245193       12043                0   \n",
       "0               8   3460555189  1700555100        7910                0   \n",
       "0               9   2214770464   998511398        7908                0   \n",
       "0              10    516803182  1422853669        1143                0   \n",
       "0              11   2153839851  1096784725       11033                0   \n",
       "0              12   2153839851  1096784725       11032                0   \n",
       "0              13   2153839851  1096784725       11034                0   \n",
       "0              14   2153839851  1096784725       11031                0   \n",
       "0              15   1218852591   385471210        9538                0   \n",
       "0              16  32722340115  1202386221        1002                0   \n",
       "0              17   2059097926  2018567473       12148                0   \n",
       "\n",
       "           task_container_id  prior_question_elapsed_time  \\\n",
       "group_num                                                   \n",
       "0                          0                          NaN   \n",
       "0                       4427                      19000.0   \n",
       "0                        240                      17000.0   \n",
       "0                        266                      23000.0   \n",
       "0                        162                      72400.0   \n",
       "0                       4424                      18000.0   \n",
       "0                       1367                      18000.0   \n",
       "0                       5314                      17000.0   \n",
       "0                        532                      21000.0   \n",
       "0                        393                      21000.0   \n",
       "0                         85                      15000.0   \n",
       "0                        315                      34250.0   \n",
       "0                        315                      34250.0   \n",
       "0                        315                      34250.0   \n",
       "0                        315                      34250.0   \n",
       "0                        378                      11000.0   \n",
       "0                        136                      16000.0   \n",
       "0                        589                      17000.0   \n",
       "\n",
       "           prior_question_had_explanation prior_group_answers_correct  \\\n",
       "group_num                                                               \n",
       "0                                    <NA>                          []   \n",
       "0                                    True                         NaN   \n",
       "0                                    True                         NaN   \n",
       "0                                    True                         NaN   \n",
       "0                                    True                         NaN   \n",
       "0                                    True                         NaN   \n",
       "0                                    True                         NaN   \n",
       "0                                    True                         NaN   \n",
       "0                                    True                         NaN   \n",
       "0                                    True                         NaN   \n",
       "0                                    True                         NaN   \n",
       "0                                    True                         NaN   \n",
       "0                                    True                         NaN   \n",
       "0                                    True                         NaN   \n",
       "0                                    True                         NaN   \n",
       "0                                    True                         NaN   \n",
       "0                                    True                         NaN   \n",
       "0                                    True                         NaN   \n",
       "\n",
       "          prior_group_responses  \n",
       "group_num                        \n",
       "0                            []  \n",
       "0                           NaN  \n",
       "0                           NaN  \n",
       "0                           NaN  \n",
       "0                           NaN  \n",
       "0                           NaN  \n",
       "0                           NaN  \n",
       "0                           NaN  \n",
       "0                           NaN  \n",
       "0                           NaN  \n",
       "0                           NaN  \n",
       "0                           NaN  \n",
       "0                           NaN  \n",
       "0                           NaN  \n",
       "0                           NaN  \n",
       "0                           NaN  \n",
       "0                           NaN  \n",
       "0                           NaN  "
      ]
     },
     "execution_count": 5,
     "metadata": {},
     "output_type": "execute_result"
    }
   ],
   "source": [
    "(test_df, sample_prediction_df) = next(iter_test)\n",
    "test_df"
   ]
  },
  {
   "cell_type": "code",
   "execution_count": 6,
   "metadata": {
    "execution": {
     "iopub.execute_input": "2020-10-07T16:19:53.191679Z",
     "iopub.status.busy": "2020-10-07T16:19:53.191160Z",
     "iopub.status.idle": "2020-10-07T16:19:53.194591Z",
     "shell.execute_reply": "2020-10-07T16:19:53.194203Z"
    },
    "papermill": {
     "duration": 0.02187,
     "end_time": "2020-10-07T16:19:53.194685",
     "exception": false,
     "start_time": "2020-10-07T16:19:53.172815",
     "status": "completed"
    },
    "tags": []
   },
   "outputs": [
    {
     "data": {
      "text/html": [
       "<div>\n",
       "<style scoped>\n",
       "    .dataframe tbody tr th:only-of-type {\n",
       "        vertical-align: middle;\n",
       "    }\n",
       "\n",
       "    .dataframe tbody tr th {\n",
       "        vertical-align: top;\n",
       "    }\n",
       "\n",
       "    .dataframe thead th {\n",
       "        text-align: right;\n",
       "    }\n",
       "</style>\n",
       "<table border=\"1\" class=\"dataframe\">\n",
       "  <thead>\n",
       "    <tr style=\"text-align: right;\">\n",
       "      <th></th>\n",
       "      <th>row_id</th>\n",
       "      <th>answered_correctly</th>\n",
       "    </tr>\n",
       "    <tr>\n",
       "      <th>group_num</th>\n",
       "      <th></th>\n",
       "      <th></th>\n",
       "    </tr>\n",
       "  </thead>\n",
       "  <tbody>\n",
       "    <tr>\n",
       "      <th>0</th>\n",
       "      <td>0</td>\n",
       "      <td>0.5</td>\n",
       "    </tr>\n",
       "    <tr>\n",
       "      <th>0</th>\n",
       "      <td>1</td>\n",
       "      <td>0.5</td>\n",
       "    </tr>\n",
       "    <tr>\n",
       "      <th>0</th>\n",
       "      <td>2</td>\n",
       "      <td>0.5</td>\n",
       "    </tr>\n",
       "    <tr>\n",
       "      <th>0</th>\n",
       "      <td>3</td>\n",
       "      <td>0.5</td>\n",
       "    </tr>\n",
       "    <tr>\n",
       "      <th>0</th>\n",
       "      <td>4</td>\n",
       "      <td>0.5</td>\n",
       "    </tr>\n",
       "    <tr>\n",
       "      <th>0</th>\n",
       "      <td>5</td>\n",
       "      <td>0.5</td>\n",
       "    </tr>\n",
       "    <tr>\n",
       "      <th>0</th>\n",
       "      <td>6</td>\n",
       "      <td>0.5</td>\n",
       "    </tr>\n",
       "    <tr>\n",
       "      <th>0</th>\n",
       "      <td>7</td>\n",
       "      <td>0.5</td>\n",
       "    </tr>\n",
       "    <tr>\n",
       "      <th>0</th>\n",
       "      <td>8</td>\n",
       "      <td>0.5</td>\n",
       "    </tr>\n",
       "    <tr>\n",
       "      <th>0</th>\n",
       "      <td>9</td>\n",
       "      <td>0.5</td>\n",
       "    </tr>\n",
       "    <tr>\n",
       "      <th>0</th>\n",
       "      <td>10</td>\n",
       "      <td>0.5</td>\n",
       "    </tr>\n",
       "    <tr>\n",
       "      <th>0</th>\n",
       "      <td>11</td>\n",
       "      <td>0.5</td>\n",
       "    </tr>\n",
       "    <tr>\n",
       "      <th>0</th>\n",
       "      <td>12</td>\n",
       "      <td>0.5</td>\n",
       "    </tr>\n",
       "    <tr>\n",
       "      <th>0</th>\n",
       "      <td>13</td>\n",
       "      <td>0.5</td>\n",
       "    </tr>\n",
       "    <tr>\n",
       "      <th>0</th>\n",
       "      <td>14</td>\n",
       "      <td>0.5</td>\n",
       "    </tr>\n",
       "    <tr>\n",
       "      <th>0</th>\n",
       "      <td>15</td>\n",
       "      <td>0.5</td>\n",
       "    </tr>\n",
       "    <tr>\n",
       "      <th>0</th>\n",
       "      <td>16</td>\n",
       "      <td>0.5</td>\n",
       "    </tr>\n",
       "    <tr>\n",
       "      <th>0</th>\n",
       "      <td>17</td>\n",
       "      <td>0.5</td>\n",
       "    </tr>\n",
       "  </tbody>\n",
       "</table>\n",
       "</div>"
      ],
      "text/plain": [
       "           row_id  answered_correctly\n",
       "group_num                            \n",
       "0               0                 0.5\n",
       "0               1                 0.5\n",
       "0               2                 0.5\n",
       "0               3                 0.5\n",
       "0               4                 0.5\n",
       "0               5                 0.5\n",
       "0               6                 0.5\n",
       "0               7                 0.5\n",
       "0               8                 0.5\n",
       "0               9                 0.5\n",
       "0              10                 0.5\n",
       "0              11                 0.5\n",
       "0              12                 0.5\n",
       "0              13                 0.5\n",
       "0              14                 0.5\n",
       "0              15                 0.5\n",
       "0              16                 0.5\n",
       "0              17                 0.5"
      ]
     },
     "execution_count": 6,
     "metadata": {},
     "output_type": "execute_result"
    }
   ],
   "source": [
    "sample_prediction_df"
   ]
  },
  {
   "cell_type": "markdown",
   "metadata": {
    "papermill": {
     "duration": 0.010264,
     "end_time": "2020-10-07T16:19:53.215563",
     "exception": false,
     "start_time": "2020-10-07T16:19:53.205299",
     "status": "completed"
    },
    "tags": []
   },
   "source": [
    "Note that we'll get an error if we try to continue on to the next batch without making our predictions for the current batch."
   ]
  },
  {
   "cell_type": "code",
   "execution_count": 7,
   "metadata": {
    "execution": {
     "iopub.execute_input": "2020-10-07T16:19:53.241105Z",
     "iopub.status.busy": "2020-10-07T16:19:53.240623Z",
     "iopub.status.idle": "2020-10-07T16:19:53.243103Z",
     "shell.execute_reply": "2020-10-07T16:19:53.243540Z"
    },
    "papermill": {
     "duration": 0.017406,
     "end_time": "2020-10-07T16:19:53.243644",
     "exception": false,
     "start_time": "2020-10-07T16:19:53.226238",
     "status": "completed"
    },
    "tags": []
   },
   "outputs": [
    {
     "name": "stdout",
     "output_type": "stream",
     "text": [
      "You must call `predict()` successfully before you can continue with `iter_test()`\n"
     ]
    }
   ],
   "source": [
    "next(iter_test)"
   ]
  },
  {
   "cell_type": "markdown",
   "metadata": {
    "papermill": {
     "duration": 0.010469,
     "end_time": "2020-10-07T16:19:53.265772",
     "exception": false,
     "start_time": "2020-10-07T16:19:53.255303",
     "status": "completed"
    },
    "tags": []
   },
   "source": [
    "### **`predict`** function\n",
    "Stores your predictions for the current batch.  Expects the same format as you saw in `sample_prediction_df` returned from the `iter_test` generator.\n",
    "\n",
    "Args:\n",
    "* `predictions_df`: DataFrame which must have the same format as `sample_prediction_df`.\n",
    "\n",
    "This function will raise an Exception if not called after a successful iteration of the `iter_test` generator."
   ]
  },
  {
   "cell_type": "markdown",
   "metadata": {
    "papermill": {
     "duration": 0.010573,
     "end_time": "2020-10-07T16:19:53.286855",
     "exception": false,
     "start_time": "2020-10-07T16:19:53.276282",
     "status": "completed"
    },
    "tags": []
   },
   "source": [
    "Let's make a dummy prediction using the sample provided by `iter_test`."
   ]
  },
  {
   "cell_type": "code",
   "execution_count": 8,
   "metadata": {
    "execution": {
     "iopub.execute_input": "2020-10-07T16:19:53.310820Z",
     "iopub.status.busy": "2020-10-07T16:19:53.310388Z",
     "iopub.status.idle": "2020-10-07T16:19:53.313103Z",
     "shell.execute_reply": "2020-10-07T16:19:53.312523Z"
    },
    "papermill": {
     "duration": 0.015817,
     "end_time": "2020-10-07T16:19:53.313182",
     "exception": false,
     "start_time": "2020-10-07T16:19:53.297365",
     "status": "completed"
    },
    "tags": []
   },
   "outputs": [],
   "source": [
    "env.predict(sample_prediction_df)"
   ]
  },
  {
   "cell_type": "markdown",
   "metadata": {
    "papermill": {
     "duration": 0.01581,
     "end_time": "2020-10-07T16:19:53.345095",
     "exception": false,
     "start_time": "2020-10-07T16:19:53.329285",
     "status": "completed"
    },
    "tags": []
   },
   "source": [
    "## Main Loop\n",
    "Let's loop through all the remaining batches in the test set generator and make the default prediction for each.  The `iter_test` generator will simply stop returning values once you've reached the end.\n",
    "\n",
    "When writing your own Notebooks, be sure to write robust code that makes as few assumptions about the `iter_test`/`predict` loop as possible.  For example, the test set contains question IDs that have not been previously observed in train.\n",
    "\n",
    "You may assume that the structure of `sample_prediction_df` will not change in this competition.\n",
    "\n",
    "**The lecture rows in `test_df` should not be submitted.**"
   ]
  },
  {
   "cell_type": "code",
   "execution_count": 9,
   "metadata": {
    "execution": {
     "iopub.execute_input": "2020-10-07T16:19:53.382482Z",
     "iopub.status.busy": "2020-10-07T16:19:53.381913Z",
     "iopub.status.idle": "2020-10-07T16:19:53.642604Z",
     "shell.execute_reply": "2020-10-07T16:19:53.642224Z"
    },
    "papermill": {
     "duration": 0.281551,
     "end_time": "2020-10-07T16:19:53.642687",
     "exception": false,
     "start_time": "2020-10-07T16:19:53.361136",
     "status": "completed"
    },
    "tags": []
   },
   "outputs": [],
   "source": [
    "for (test_df, sample_prediction_df) in iter_test:\n",
    "    test_df['answered_correctly'] = 0.5\n",
    "    env.predict(test_df.loc[test_df['content_type_id'] == 0, ['row_id', 'answered_correctly']])"
   ]
  },
  {
   "cell_type": "markdown",
   "metadata": {
    "papermill": {
     "duration": 0.010805,
     "end_time": "2020-10-07T16:19:53.665264",
     "exception": false,
     "start_time": "2020-10-07T16:19:53.654459",
     "status": "completed"
    },
    "tags": []
   },
   "source": [
    "## Restart the Notebook to run your code again\n",
    "In order to combat cheating, you are only allowed to call `make_env` or iterate through `iter_test` once per Notebook run.  However, while you're iterating on your model it's reasonable to try something out, change the model a bit, and try it again.  Unfortunately, if you try to simply re-run the code, or even refresh the browser page, you'll still be running on the same Notebook execution session you had been running before, and the `riideducation` module will still throw errors.  To get around this, you need to explicitly restart your Notebook execution session, which you can do by **clicking \"Run\"->\"Restart Session\"** in the Notebook Editor's menu bar at the top."
   ]
  },
  {
   "cell_type": "code",
   "execution_count": null,
   "metadata": {
    "papermill": {
     "duration": 0.01058,
     "end_time": "2020-10-07T16:19:53.686795",
     "exception": false,
     "start_time": "2020-10-07T16:19:53.676215",
     "status": "completed"
    },
    "tags": []
   },
   "outputs": [],
   "source": []
  }
 ],
 "metadata": {
  "kernelspec": {
   "display_name": "Python 3",
   "language": "python",
   "name": "python3"
  },
  "language_info": {
   "codemirror_mode": {
    "name": "ipython",
    "version": 3
   },
   "file_extension": ".py",
   "mimetype": "text/x-python",
   "name": "python",
   "nbconvert_exporter": "python",
   "pygments_lexer": "ipython3",
   "version": "3.8.5-final"
  },
  "papermill": {
   "duration": 4.366532,
   "end_time": "2020-10-07T16:19:53.802899",
   "environment_variables": {},
   "exception": null,
   "input_path": "__notebook__.ipynb",
   "output_path": "__notebook__.ipynb",
   "parameters": {},
   "start_time": "2020-10-07T16:19:49.436367",
   "version": "2.1.0"
  }
 },
 "nbformat": 4,
 "nbformat_minor": 4
}